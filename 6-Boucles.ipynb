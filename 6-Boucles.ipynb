{
 "cells": [
  {
   "cell_type": "markdown",
   "metadata": {},
   "source": [
    "# TITRE : LES BOUCLES\n",
    "## NIVEAU : BASES\n",
    "### Objectif : Découvrir la notion de BOUCLE comme outil de programmation\n",
    "\n",
    "Les programmes exécutent des instructions répétitives à l'intérieur des BOUCLES. Ces boucles peuvent être bornées (le nombre de répétitions est spécifié dans la définition de la boucle) ou non bornées ( le nombre de répétitions dépend du résultat d'un test effectué à chaque tour de boucle, on appelle ce test \"la condition d'arrêt\").\n",
    "Attention : Pour éviter qu'un programme tourne indéfiniment, il faut s'assurer que la condition d'arrêt sera vraie à un momment donné.\n"
   ]
  },
  {
   "cell_type": "markdown",
   "metadata": {},
   "source": [
    "Un peu de lecture pour commencer:\n",
    "\n",
    "http://lls-ftp.s3.amazonaws.com/collection-2019/python/FICHE5_LES_BOUCLES_BORNEES.pdf\n",
    "\n",
    "http://lls-ftp.s3.amazonaws.com/collection-2019/python/FICHE6_LES_BOUCLES_NON_BORNEES.pdf\n",
    "\n"
   ]
  },
  {
   "cell_type": "markdown",
   "metadata": {},
   "source": [
    "## Activités\n"
   ]
  },
  {
   "cell_type": "markdown",
   "metadata": {},
   "source": [
    "## Exercices"
   ]
  }
 ],
 "metadata": {
  "kernelspec": {
   "display_name": "Python 3",
   "language": "python",
   "name": "python3"
  },
  "language_info": {
   "codemirror_mode": {
    "name": "ipython",
    "version": 3
   },
   "file_extension": ".py",
   "mimetype": "text/x-python",
   "name": "python",
   "nbconvert_exporter": "python",
   "pygments_lexer": "ipython3",
   "version": "3.6.8"
  }
 },
 "nbformat": 4,
 "nbformat_minor": 2
}
